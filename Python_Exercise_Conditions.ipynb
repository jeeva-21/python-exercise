{
 "cells": [
  {
   "cell_type": "code",
   "execution_count": 1,
   "id": "3c3fc12d",
   "metadata": {},
   "outputs": [
    {
     "name": "stdout",
     "output_type": "stream",
     "text": [
      "Negative\n"
     ]
    }
   ],
   "source": [
    "#Print zero, positive or negative\n",
    "\n",
    "num = -5\n",
    "\n",
    "if num == 0:\n",
    "    print('Zero')\n",
    "elif num > 0:\n",
    "    print('Positive')\n",
    "else:\n",
    "    print('Negative')"
   ]
  },
  {
   "cell_type": "code",
   "execution_count": 2,
   "id": "df0214c6",
   "metadata": {},
   "outputs": [
    {
     "name": "stdout",
     "output_type": "stream",
     "text": [
      "s is a consonants\n",
      "c is a consonants\n",
      "o is a vowel\n",
      "r is a consonants\n",
      "e is a vowel\n",
      ": is not a letter\n",
      "3 is not a letter\n",
      "6 is not a letter\n"
     ]
    }
   ],
   "source": [
    "#Vowels and Consonants\n",
    "\n",
    "text = \"Score:36\"\n",
    "text1 = text.replace(' ', '')\n",
    "if not text1:\n",
    "    print(\"Empty\")\n",
    "else:\n",
    "    for char in text1.lower():\n",
    "        if char in ('a','e','i','o','u'):\n",
    "            print(f'{char} is a vowel')\n",
    "        elif not char.isalpha():\n",
    "            print(f'{char} is not a letter')\n",
    "        else:\n",
    "            print(f'{char} is a consonants')\n",
    "            "
   ]
  },
  {
   "cell_type": "code",
   "execution_count": 3,
   "id": "4693c18c",
   "metadata": {},
   "outputs": [
    {
     "name": "stdout",
     "output_type": "stream",
     "text": [
      "4\n"
     ]
    }
   ],
   "source": [
    "#find maximum value\n",
    "a = 1\n",
    "b = 3\n",
    "c = 4\n",
    "\n",
    "if (a >= b) and (a >= c):\n",
    "    print(a)\n",
    "elif (b >= a) and (b >= c):\n",
    "    print(b)\n",
    "else:\n",
    "    print(c)"
   ]
  },
  {
   "cell_type": "code",
   "execution_count": 4,
   "id": "1ca1380f",
   "metadata": {},
   "outputs": [
    {
     "name": "stdout",
     "output_type": "stream",
     "text": [
      "4\n"
     ]
    }
   ],
   "source": [
    "#find maximum value\n",
    "a = 1\n",
    "b = 3\n",
    "c = 4\n",
    "print(max(a,b,c))"
   ]
  },
  {
   "cell_type": "code",
   "execution_count": 5,
   "id": "0f710396",
   "metadata": {},
   "outputs": [
    {
     "name": "stdout",
     "output_type": "stream",
     "text": [
      "1\n"
     ]
    }
   ],
   "source": [
    "#find minimum value\n",
    "a = 1\n",
    "b = 3\n",
    "c = 4\n",
    "\n",
    "if (a <= b) and (a <= c):\n",
    "    print(a)\n",
    "elif (b <= a) and (b <= c):\n",
    "    print(b)\n",
    "else:\n",
    "    print(c)"
   ]
  },
  {
   "cell_type": "code",
   "execution_count": 6,
   "id": "1a143c2b",
   "metadata": {},
   "outputs": [
    {
     "name": "stdout",
     "output_type": "stream",
     "text": [
      "1\n"
     ]
    }
   ],
   "source": [
    "#find minimum value\n",
    "a = 1\n",
    "b = 3\n",
    "c = 4\n",
    "print(min(a,b,c))"
   ]
  },
  {
   "cell_type": "code",
   "execution_count": 7,
   "id": "7b2d3e8f",
   "metadata": {},
   "outputs": [
    {
     "name": "stdout",
     "output_type": "stream",
     "text": [
      "Summer\n"
     ]
    }
   ],
   "source": [
    "#season\n",
    "\n",
    "season_num = 2\n",
    "\n",
    "if season_num ==1:\n",
    "    print(\"Spring\")\n",
    "elif season_num == 2:\n",
    "    print('Summer')\n",
    "elif season_num == 3:\n",
    "    print(\"Fall\")\n",
    "elif season_num == 4:\n",
    "    print(\"Winter\")\n",
    "else:\n",
    "    print(\"Enter valid number\")"
   ]
  },
  {
   "cell_type": "code",
   "execution_count": 8,
   "id": "be9c9199",
   "metadata": {},
   "outputs": [
    {
     "name": "stdout",
     "output_type": "stream",
     "text": [
      "Not Equal\n"
     ]
    }
   ],
   "source": [
    "#Compare three numbers\n",
    "\n",
    "a = 4\n",
    "b = 1\n",
    "c = 1\n",
    "\n",
    "# if (a == b ) and ( b==c ):\n",
    "\n",
    "if (a == b == b==c ):\n",
    "    print(\"Equal\")\n",
    "else:\n",
    "    print(\"Not Equal\")"
   ]
  },
  {
   "cell_type": "code",
   "execution_count": 9,
   "id": "a7898d3c",
   "metadata": {},
   "outputs": [
    {
     "name": "stdout",
     "output_type": "stream",
     "text": [
      "March has: 31 days\n"
     ]
    }
   ],
   "source": [
    "#Find the number of days in months\n",
    "\n",
    "month = \"March\"\n",
    "\n",
    "months_31_days = (\"January\", \"March\", \"May\", \"July\", \"August\", \"October\", \"December\")\n",
    "\n",
    "months_30_days = (\"April\", \"June\", \"September\", \"November\")\n",
    "\n",
    "if month in months_31_days:\n",
    "    print(f'{month} has: 31 days')\n",
    "elif month in months_30_days:\n",
    "    print(f'{month} has: 30 days')\n",
    "else:\n",
    "    print(f'{month} has: 28 days')"
   ]
  },
  {
   "cell_type": "code",
   "execution_count": 10,
   "id": "d74707f7",
   "metadata": {},
   "outputs": [
    {
     "name": "stdout",
     "output_type": "stream",
     "text": [
      "Decreasing order\n"
     ]
    }
   ],
   "source": [
    " #Increasing or Decreasing\n",
    "\n",
    "a = 3\n",
    "b = 2\n",
    "c = 1\n",
    "\n",
    "if a > b > c:\n",
    "    print(\"Decreasing order\")\n",
    "elif a < b < c:\n",
    "    print(\"Increasing order\")\n",
    "else:\n",
    "    print(None)"
   ]
  },
  {
   "cell_type": "code",
   "execution_count": 11,
   "id": "850cdc79",
   "metadata": {},
   "outputs": [
    {
     "name": "stdout",
     "output_type": "stream",
     "text": [
      "116\n",
      "-1.4770329614269007 -1.4770329614269007\n"
     ]
    }
   ],
   "source": [
    "#Quadratic Equation\n",
    "\n",
    "import math\n",
    "\n",
    "a = 5\n",
    "b = 4\n",
    "c = -5\n",
    "\n",
    "discriminant = (b ** 2) - (4 * a * c)\n",
    "print(discriminant)\n",
    "\n",
    "if discriminant < 0:\n",
    "    print(\"Complex Roots\")\n",
    "elif discriminant == 0: \n",
    "    r = -b/(2*a)\n",
    "    print(r)\n",
    "else:\n",
    "    r1 = (-b - math.sqrt(discriminant))/(2*a)\n",
    "    r2 = (-b - math.sqrt(discriminant))/(2*a)\n",
    "    print(r1,r2)"
   ]
  },
  {
   "cell_type": "code",
   "execution_count": 12,
   "id": "2bccebcf",
   "metadata": {},
   "outputs": [
    {
     "name": "stdout",
     "output_type": "stream",
     "text": [
      "=== Welcome to your Interactive Python Calculator ===\n",
      "Please enter the first value: 4\n",
      "Please enter the second value: 5\n",
      "Great! Now enter the operation.\n",
      "These are the available options\n",
      "1 - Addition\n",
      "2 - Subtraction\n",
      "3 - Multiplication\n",
      "4 - Division\n",
      "5 - Integer Division\n",
      "6 - Modulo\n",
      "--> Enter the corresponding : 6\n",
      "The result of 4 % 5 is : 4\n"
     ]
    }
   ],
   "source": [
    "#Interactive calculator\n",
    "\n",
    "ADDITION = 1\n",
    "SUBTRACTION =2 \n",
    "MULTIPLICATION = 3\n",
    "DIVISION = 4\n",
    "INTEGER_DIVISION = 5\n",
    "MODULO = 6\n",
    "\n",
    "print(\"=== Welcome to your Interactive Python Calculator ===\")\n",
    "\n",
    "a = int(input(\"Please enter the first value: \"))\n",
    "b = int(input(\"Please enter the second value: \"))\n",
    "\n",
    "print(\"Great! Now enter the operation.\")\n",
    "print(\"These are the available options\")\n",
    "print(\"1 - Addition\")\n",
    "print(\"2 - Subtraction\")\n",
    "print(\"3 - Multiplication\")\n",
    "print(\"4 - Division\")\n",
    "print(\"5 - Integer Division\")\n",
    "print(\"6 - Modulo\")\n",
    "\n",
    "operation = int(input(\"--> Enter the corresponding : \"))\n",
    "\n",
    "if operation == ADDITION:\n",
    "    result = a + b\n",
    "    print(f'The result of {a} + {b} is : {result}')\n",
    "elif operation == SUBTRACTION:\n",
    "    result = a - b\n",
    "    print(f'The result of {a} - {b} is : {result}')\n",
    "elif operation == MULTIPLICATION:\n",
    "    result = a * b\n",
    "    print(f'The result of {a} * {b} is : {result}')\n",
    "elif operation == DIVISION:\n",
    "    if b == 0:\n",
    "        print(\"Division by Zero. Please enter another value for b.\")\n",
    "    else:\n",
    "        result = a / b\n",
    "        print(f'The result of {a} / {b} is : {result}')\n",
    "elif operation == INTEGER_DIVISION:\n",
    "    if b == 0:\n",
    "        print(\"Division by Zero. Please enter another value for b.\")\n",
    "    else:\n",
    "        result = a // b\n",
    "        print(f'The result of {a} // {b} is : {result}')\n",
    "elif operation == MODULO:\n",
    "    result = a % b\n",
    "    print(f'The result of {a} % {b} is : {result}')\n",
    "else:\n",
    "    print(\"Please enter a valid operation\")"
   ]
  },
  {
   "cell_type": "code",
   "execution_count": 13,
   "id": "224fd899",
   "metadata": {},
   "outputs": [
    {
     "name": "stdout",
     "output_type": "stream",
     "text": [
      "=== Welcome to the game ===\n",
      "Please enter Rock, Paper or Scissors paper\n",
      "you win! Your opponent chose 'Rock'\n"
     ]
    }
   ],
   "source": [
    "#Rock paper scissors\n",
    "\n",
    "import random\n",
    "\n",
    "options = (\"rock\", \"paper\", \"scissors\")\n",
    "\n",
    "computer = options[random.randint(0,2)]\n",
    "\n",
    "print(\"=== Welcome to the game ===\")\n",
    "\n",
    "player = input(\"Please enter Rock, Paper or Scissors \")\n",
    "\n",
    "if player.lower() == computer:\n",
    "    print(\"It's a tie\")\n",
    "elif player.lower() == \"rock\":\n",
    "    if computer == \"paper\":\n",
    "        print(\"You lose! Your opponent chose 'Paper' \")\n",
    "    else:\n",
    "        print(\"you win! Your opponent chose 'Scissors '\")\n",
    "elif player.lower() == \"paper\":\n",
    "    if computer == \"scissors\":\n",
    "        print(\"You lose! Your opponent chose 'Scissors' \")\n",
    "    else:\n",
    "        print(\"you win! Your opponent chose 'Rock'\")  \n",
    "elif player.lower() == \"scissors\":\n",
    "    if computer == \"rock\":\n",
    "        print(\"You lose! Your opponent chose 'Rock' \")\n",
    "    else:\n",
    "        print(\"you win! Your opponent chose 'Paper' \")\n",
    "else:\n",
    "    print(\"Please enter a valid option\")\n",
    "    "
   ]
  },
  {
   "cell_type": "code",
   "execution_count": null,
   "id": "2df08fd5",
   "metadata": {},
   "outputs": [],
   "source": []
  }
 ],
 "metadata": {
  "kernelspec": {
   "display_name": "Python 3 (ipykernel)",
   "language": "python",
   "name": "python3"
  },
  "language_info": {
   "codemirror_mode": {
    "name": "ipython",
    "version": 3
   },
   "file_extension": ".py",
   "mimetype": "text/x-python",
   "name": "python",
   "nbconvert_exporter": "python",
   "pygments_lexer": "ipython3",
   "version": "3.9.5"
  }
 },
 "nbformat": 4,
 "nbformat_minor": 5
}
