{
 "cells": [
  {
   "cell_type": "code",
   "execution_count": 4,
   "id": "358cda3e",
   "metadata": {},
   "outputs": [
    {
     "name": "stdout",
     "output_type": "stream",
     "text": [
      "['Line 1\\n', 'Line 2\\n', 'Line 3\\n', 'Line 4']\n"
     ]
    }
   ],
   "source": [
    "#Read a text file\n",
    "file_path = \"basic_file.txt\"\n",
    "\n",
    "file_content = []\n",
    "\n",
    "with open(file_path) as file:\n",
    "    for line in file:\n",
    "        file_content.append(line)\n",
    "        \n",
    "print(file_content)"
   ]
  },
  {
   "cell_type": "code",
   "execution_count": 12,
   "id": "b0752c11",
   "metadata": {},
   "outputs": [
    {
     "name": "stdout",
     "output_type": "stream",
     "text": [
      "enter number of lines to read: 3\n",
      "Line 1\n",
      "Line 2\n",
      "Line 3\n"
     ]
    }
   ],
   "source": [
    "#print first lines\n",
    "\n",
    "file_path = \"basic_file.txt\"\n",
    "\n",
    "n = int(input(\"enter number of lines to read: \"))\n",
    "\n",
    "with open(file_path) as file:\n",
    "    lines = file.readlines()\n",
    "    num_lines = len(lines)\n",
    "    \n",
    "    if num_lines < n:\n",
    "        print(f'Please enter the valid values, The file has {num_lines} of lines')\n",
    "    else:\n",
    "        for i in range(n):\n",
    "            print(lines[i].strip('\\n'))"
   ]
  },
  {
   "cell_type": "code",
   "execution_count": 17,
   "id": "398c58f3",
   "metadata": {},
   "outputs": [
    {
     "name": "stdout",
     "output_type": "stream",
     "text": [
      "enter number of lines to read: 1\n",
      "Line 4\n"
     ]
    }
   ],
   "source": [
    "#print last line\n",
    "\n",
    "file_path = \"basic_file.txt\"\n",
    "\n",
    "n = int(input(\"enter number of lines to read: \"))\n",
    "\n",
    "with open(file_path) as file:\n",
    "    lines = file.readlines()\n",
    "    num_lines = len(lines)\n",
    "    \n",
    "    if num_lines < n:\n",
    "        print(f'Please enter the valid values, The file has {num_lines} of lines')\n",
    "    else:\n",
    "        for i in range(-n,0):\n",
    "            print(lines[i].strip('\\n'))\n"
   ]
  },
  {
   "cell_type": "code",
   "execution_count": 6,
   "id": "0be0bd05",
   "metadata": {},
   "outputs": [
    {
     "name": "stdout",
     "output_type": "stream",
     "text": [
      "contradiction\n",
      "\n"
     ]
    }
   ],
   "source": [
    "#Find longest word\n",
    "\n",
    "file_path = \"words.txt\"\n",
    "\n",
    "longest_word = \"\"\n",
    "\n",
    "with open(file_path) as file:\n",
    "    for word in file:\n",
    "        if len(word) > len(longest_word):\n",
    "            longest_word = word\n",
    "print(longest_word)"
   ]
  },
  {
   "cell_type": "code",
   "execution_count": 7,
   "id": "0a0d0591",
   "metadata": {},
   "outputs": [],
   "source": [
    "#Write a list to a file\n",
    "file_path = \"list.txt\"\n",
    "\n",
    "my_list = [1,2,3,4,5]\n",
    "\n",
    "with open(file_path, \"w\") as file:\n",
    "    for elem in my_list:\n",
    "        file.write(str(elem))\n"
   ]
  },
  {
   "cell_type": "code",
   "execution_count": 10,
   "id": "6e309cf9-e7a6-4939-8b15-03b3ce9c47ee",
   "metadata": {},
   "outputs": [
    {
     "name": "stdout",
     "output_type": "stream",
     "text": [
      "339\n"
     ]
    }
   ],
   "source": [
    "#count the character in file\n",
    "\n",
    "file_path = \"famous_quotes.txt\"\n",
    "\n",
    "character_count = 0\n",
    "\n",
    "with open(file_path) as file:\n",
    "    for line in file:\n",
    "        character_count += len(line.replace(\" \",\"\").strip(\"\\n\"))\n",
    "                               \n",
    "print(character_count)    "
   ]
  },
  {
   "cell_type": "code",
   "execution_count": null,
   "id": "c979c270-ce0a-4b9f-9961-ad33733c4e2c",
   "metadata": {},
   "outputs": [],
   "source": []
  }
 ],
 "metadata": {
  "kernelspec": {
   "display_name": "Python 3 (ipykernel)",
   "language": "python",
   "name": "python3"
  },
  "language_info": {
   "codemirror_mode": {
    "name": "ipython",
    "version": 3
   },
   "file_extension": ".py",
   "mimetype": "text/x-python",
   "name": "python",
   "nbconvert_exporter": "python",
   "pygments_lexer": "ipython3",
   "version": "3.9.5"
  }
 },
 "nbformat": 4,
 "nbformat_minor": 5
}
