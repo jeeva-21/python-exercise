{
 "cells": [
  {
   "cell_type": "code",
   "execution_count": 1,
   "id": "760fe674",
   "metadata": {},
   "outputs": [
    {
     "name": "stdout",
     "output_type": "stream",
     "text": [
      "5050\n"
     ]
    }
   ],
   "source": [
    "#Sum of first 100\n",
    "\n",
    "total = 0 \n",
    "\n",
    "for i in range(1,101):\n",
    "    total +=i\n",
    "print(total)"
   ]
  },
  {
   "cell_type": "code",
   "execution_count": 2,
   "id": "503b3f7c",
   "metadata": {},
   "outputs": [
    {
     "name": "stdout",
     "output_type": "stream",
     "text": [
      "Enter the value of n: 7\n",
      "Multiplication Table of 7 \n",
      "7 x 1 = 7\n",
      "7 x 2 = 14\n",
      "7 x 3 = 21\n",
      "7 x 4 = 28\n",
      "7 x 5 = 35\n",
      "7 x 6 = 42\n",
      "7 x 7 = 49\n",
      "7 x 8 = 56\n",
      "7 x 9 = 63\n",
      "7 x 10 = 70\n"
     ]
    }
   ],
   "source": [
    "#Multiplication Table\n",
    "\n",
    "n = int(input(\"Enter the value of n: \"))\n",
    "print(f'Multiplication Table of {n} ')\n",
    "\n",
    "for i in range(1,11):\n",
    "    print(f'{n} x {i} = {n*i}')"
   ]
  },
  {
   "cell_type": "code",
   "execution_count": 3,
   "id": "dee42bda",
   "metadata": {},
   "outputs": [
    {
     "name": "stdout",
     "output_type": "stream",
     "text": [
      "A\n",
      "B\n",
      "C\n",
      "D\n",
      "E\n",
      "F\n",
      "G\n",
      "H\n",
      "I\n",
      "J\n",
      "K\n",
      "L\n",
      "M\n",
      "N\n",
      "O\n",
      "P\n",
      "Q\n",
      "R\n",
      "S\n",
      "T\n",
      "U\n",
      "V\n",
      "W\n",
      "X\n",
      "Y\n",
      "Z\n"
     ]
    }
   ],
   "source": [
    "#Print alphabet\n",
    "for i in range(65,91):\n",
    "# for i in range(97,123):\n",
    "    print(chr(i))"
   ]
  },
  {
   "cell_type": "code",
   "execution_count": 4,
   "id": "752caf2d",
   "metadata": {},
   "outputs": [
    {
     "name": "stdout",
     "output_type": "stream",
     "text": [
      "2,4,6,8,10,12,14,16,18,20,22,24,26,28,30,32,34,36,38,40,42,44,46,48,50,52,54,56,58,60,62,64,66,68,70,72,74,76,78,80,82,84,86,88,90,92,94,96,98,100,102,104,106,108,110,112,114,116,118,120,122,124,126,128,130,132,134,136,138,140,142,144,146,148,150,152,154,156,158,160,162,164,166,168,170,172,174,176,178,180,182,184,186,188,190,192,194,196,198,200,"
     ]
    }
   ],
   "source": [
    "#100 Even numbers\n",
    "\n",
    "for i in range(2,201,2):\n",
    "    print(i,end= \",\")"
   ]
  },
  {
   "cell_type": "code",
   "execution_count": 5,
   "id": "a5085a5b",
   "metadata": {},
   "outputs": [
    {
     "name": "stdout",
     "output_type": "stream",
     "text": [
      "Enter the value of n : 4\n",
      "24\n"
     ]
    }
   ],
   "source": [
    "#Factorial\n",
    "\n",
    "n = int(input(\"Enter the value of n : \"))\n",
    "\n",
    "factorial = 1\n",
    "\n",
    "for i in range(2,n+1):\n",
    "    factorial *= i\n",
    "    \n",
    "print(factorial)"
   ]
  },
  {
   "cell_type": "code",
   "execution_count": 6,
   "id": "c4663cb2",
   "metadata": {},
   "outputs": [
    {
     "name": "stdout",
     "output_type": "stream",
     "text": [
      "Enter the number : 37\n",
      "Prime\n"
     ]
    }
   ],
   "source": [
    "#Prime or not\n",
    "#option 1\n",
    "is_prime = True\n",
    "\n",
    "num = int(input(\"Enter the number : \"))\n",
    "\n",
    "if num == 0 or num == 1:\n",
    "    is_prime = False\n",
    "else:\n",
    "    for i in range(2,num):\n",
    "        if num % i == 0:\n",
    "            is_prime = False\n",
    "            break\n",
    "            \n",
    "if is_prime:\n",
    "    print(\"Prime\")\n",
    "else:\n",
    "    print(\"Not a Prime\")"
   ]
  },
  {
   "cell_type": "code",
   "execution_count": 7,
   "id": "9773c532",
   "metadata": {},
   "outputs": [
    {
     "name": "stdout",
     "output_type": "stream",
     "text": [
      "Enter the number : 29\n",
      "Prime\n"
     ]
    }
   ],
   "source": [
    "#Prime or not\n",
    "#option 1\n",
    "\n",
    "num = int(input(\"Enter the number : \"))\n",
    "\n",
    "if num == 0 or num == 1:\n",
    "    print(\"Not a Prime\")\n",
    "else:\n",
    "    for i in range(2,num):\n",
    "        if num % i == 0:\n",
    "            print(\"Not a Prime\")\n",
    "            break\n",
    "            \n",
    "    else:\n",
    "        print(\"Prime\")"
   ]
  },
  {
   "cell_type": "code",
   "execution_count": 8,
   "id": "130d5a4b",
   "metadata": {},
   "outputs": [
    {
     "name": "stdout",
     "output_type": "stream",
     "text": [
      "Enter the value of n : 7\n",
      "*\n",
      "**\n",
      "***\n",
      "****\n",
      "*****\n",
      "******\n",
      "*******\n"
     ]
    }
   ],
   "source": [
    "#Print a pattern\n",
    "\n",
    "n = int(input(\"Enter the value of n : \"))\n",
    "\n",
    "for i in range(1, n+1):\n",
    "    a= \"*\" * i\n",
    "#     print(a.center(20))\n",
    "    \n",
    "    print(\"*\" * i)"
   ]
  },
  {
   "cell_type": "code",
   "execution_count": 9,
   "id": "986b7334",
   "metadata": {},
   "outputs": [
    {
     "name": "stdout",
     "output_type": "stream",
     "text": [
      "1253\n"
     ]
    }
   ],
   "source": [
    "#print digit in reverse\n",
    "#option 1\n",
    "\n",
    "num = 3521\n",
    "\n",
    "reverse = int(str(num)[::-1])\n",
    "\n",
    "print(reverse)"
   ]
  },
  {
   "cell_type": "code",
   "execution_count": 10,
   "id": "40c78204",
   "metadata": {},
   "outputs": [
    {
     "name": "stdout",
     "output_type": "stream",
     "text": [
      "olleH"
     ]
    }
   ],
   "source": [
    "#reverse a string\n",
    "\n",
    "s = \"Hello\"\n",
    "\n",
    "for char in s[::-1]:\n",
    "    print(char, end = \"\")"
   ]
  },
  {
   "cell_type": "code",
   "execution_count": 11,
   "id": "bd346fc0",
   "metadata": {},
   "outputs": [
    {
     "name": "stdout",
     "output_type": "stream",
     "text": [
      "Enter the number is rows9\n",
      "                * \n",
      "              * * \n",
      "            * * * \n",
      "          * * * * \n",
      "        * * * * * \n",
      "      * * * * * * \n",
      "    * * * * * * * \n",
      "  * * * * * * * * \n",
      "* * * * * * * * * \n"
     ]
    }
   ],
   "source": [
    "#Half pyramid\n",
    "\n",
    "num_rows = int(input(\"Enter the number is rows\"))\n",
    "\n",
    "k = (2 * num_rows) - 2\n",
    "\n",
    "for i in range(0, num_rows):\n",
    "    \n",
    "    for j in range(0, k):\n",
    "        print(\"\", end = \" \" )\n",
    "              \n",
    "    k = k-2\n",
    "    \n",
    "    for j in range(0, i + 1):\n",
    "              print(\"*\" , end = \" \")\n",
    "    print()\n",
    "              "
   ]
  },
  {
   "cell_type": "code",
   "execution_count": 12,
   "id": "c241cbdf",
   "metadata": {},
   "outputs": [
    {
     "name": "stdout",
     "output_type": "stream",
     "text": [
      "Enter the number is rows8\n",
      "* \n",
      "* * \n",
      "* * * \n",
      "* * * * \n",
      "* * * * * \n",
      "* * * * * * \n",
      "* * * * * * * \n",
      "* * * * * * * * \n"
     ]
    }
   ],
   "source": [
    "\n",
    "num_rows = int(input(\"Enter the number is rows\"))\n",
    "\n",
    "# k = (2 * num_rows) - 2\n",
    "\n",
    "for i in range(0, num_rows):\n",
    "    \n",
    "#     for j in range(0, k):\n",
    "#         print(\"\", end = \" \" )\n",
    "              \n",
    "#     k = k-2\n",
    "    \n",
    "    for j in range(0, i+1):\n",
    "        print(\"*\" , end = \" \")\n",
    "    \n",
    "    print()"
   ]
  },
  {
   "cell_type": "code",
   "execution_count": 13,
   "id": "2f4ad2c8",
   "metadata": {},
   "outputs": [
    {
     "name": "stdout",
     "output_type": "stream",
     "text": [
      "Enter the number of rows5\n",
      "1 \n",
      "2 3 \n",
      "4 5 6 \n",
      "7 8 9 10 \n",
      "11 12 13 14 15 \n"
     ]
    }
   ],
   "source": [
    "#Floyd's Triangle\n",
    "\n",
    "\n",
    "num_rows = int(input(\"Enter the number of rows\"))\n",
    "\n",
    "count = 1\n",
    "for i in range(1,num_rows+1):\n",
    "    for j in range(0,i):\n",
    "        print(count, end  = \" \")\n",
    "        count += 1\n",
    "    print()"
   ]
  },
  {
   "cell_type": "code",
   "execution_count": 14,
   "id": "d8ef7d58",
   "metadata": {},
   "outputs": [
    {
     "name": "stdout",
     "output_type": "stream",
     "text": [
      "1 \n",
      "2 3 \n",
      "4 5 6 \n",
      "7 8 9 10 \n",
      "11 12 13 14 15 \n"
     ]
    }
   ],
   "source": [
    "n = 5\n",
    "\n",
    "count = 1\n",
    "for i in range(1,n+1):\n",
    "    for j in range(0,i):\n",
    "        print(count, end = \" \")\n",
    "        count += 1\n",
    "    print()"
   ]
  },
  {
   "cell_type": "code",
   "execution_count": 15,
   "id": "2ea4c50b",
   "metadata": {},
   "outputs": [
    {
     "name": "stdout",
     "output_type": "stream",
     "text": [
      "Enter number of rows : 5\n",
      "A\n",
      "BB\n",
      "CCC\n",
      "DDDD\n",
      "EEEEE\n"
     ]
    }
   ],
   "source": [
    "#Triangle pattern\n",
    "\n",
    "num_rows = int(input(\"Enter number of rows : \"))\n",
    "\n",
    "for i in range(0,num_rows):\n",
    "    print(chr(65+i)* (i+1))"
   ]
  },
  {
   "cell_type": "code",
   "execution_count": 16,
   "id": "8adbe7a6",
   "metadata": {},
   "outputs": [
    {
     "name": "stdout",
     "output_type": "stream",
     "text": [
      "Enter the number : 9\n",
      "      *\n",
      "     ***\n",
      "    *****\n",
      "   *******\n",
      "  *********\n",
      "   *******\n",
      "    *****\n",
      "     ***\n",
      "      *\n"
     ]
    }
   ],
   "source": [
    "#Diamond pattern\n",
    "\n",
    "height  = int(input(\"Enter the number : \"))\n",
    "\n",
    "if height % 2== 0:\n",
    "    print(\"Enter odd number\")\n",
    "else:\n",
    "    \n",
    "    middle_number = (height + 2 ) // 2\n",
    "\n",
    "    for i in range(middle_number):\n",
    "        print(\" \" * (middle_number - i), \"*\" * (i*2 + 1))\n",
    "    for i in range(middle_number-2,-1,-1):\n",
    "        print(\" \" * (middle_number - i), \"*\" * (i*2 + 1))    \n"
   ]
  },
  {
   "cell_type": "code",
   "execution_count": null,
   "id": "0b036475",
   "metadata": {},
   "outputs": [],
   "source": []
  }
 ],
 "metadata": {
  "kernelspec": {
   "display_name": "Python 3 (ipykernel)",
   "language": "python",
   "name": "python3"
  },
  "language_info": {
   "codemirror_mode": {
    "name": "ipython",
    "version": 3
   },
   "file_extension": ".py",
   "mimetype": "text/x-python",
   "name": "python",
   "nbconvert_exporter": "python",
   "pygments_lexer": "ipython3",
   "version": "3.9.5"
  }
 },
 "nbformat": 4,
 "nbformat_minor": 5
}
