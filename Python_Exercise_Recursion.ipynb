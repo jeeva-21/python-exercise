{
 "cells": [
  {
   "cell_type": "code",
   "execution_count": 1,
   "id": "170d2e5c",
   "metadata": {},
   "outputs": [
    {
     "name": "stdout",
     "output_type": "stream",
     "text": [
      "8\n"
     ]
    }
   ],
   "source": [
    "#Find sum recursively\n",
    "\n",
    "my_list = [1,2,3,2]\n",
    "\n",
    "def find_sum(s):\n",
    "    if len(s) == 0:\n",
    "        return 0\n",
    "    else:\n",
    "        return s[0] + find_sum(s[1:])\n",
    "print(find_sum(my_list))"
   ]
  },
  {
   "cell_type": "code",
   "execution_count": 2,
   "id": "db2232eb",
   "metadata": {},
   "outputs": [
    {
     "name": "stdout",
     "output_type": "stream",
     "text": [
      "8\n"
     ]
    }
   ],
   "source": [
    "#Find recursive Fibonacci\n",
    "\n",
    "def fibonacci(n):\n",
    "    if n == 0 or n == 1:\n",
    "        return n\n",
    "    else:\n",
    "        return fibonacci(n-1) + fibonacci(n-2)\n",
    "print(fibonacci(6))"
   ]
  },
  {
   "cell_type": "code",
   "execution_count": 3,
   "id": "054b35c4",
   "metadata": {},
   "outputs": [
    {
     "name": "stdout",
     "output_type": "stream",
     "text": [
      "720\n"
     ]
    }
   ],
   "source": [
    "# Find recursive Factorial\n",
    "\n",
    "def factorial(n):\n",
    "    if n == 0 or n == 1:\n",
    "        return 1\n",
    "    else:\n",
    "        return n * factorial(n-1)\n",
    "print(factorial(6))"
   ]
  },
  {
   "cell_type": "code",
   "execution_count": 4,
   "id": "a2e7294b",
   "metadata": {},
   "outputs": [
    {
     "name": "stdout",
     "output_type": "stream",
     "text": [
      "10\n"
     ]
    }
   ],
   "source": [
    "#Sum of digit\n",
    "\n",
    "def sum_of_digits(num):\n",
    "    if num == 0:\n",
    "        return 0\n",
    "    else:\n",
    "        return (num % 10) + sum_of_digits(num // 10)\n",
    "print(sum_of_digits(1243))"
   ]
  },
  {
   "cell_type": "code",
   "execution_count": 5,
   "id": "7ee7cf97",
   "metadata": {},
   "outputs": [
    {
     "name": "stdout",
     "output_type": "stream",
     "text": [
      "16\n"
     ]
    }
   ],
   "source": [
    "#Find power recursively\n",
    "\n",
    "def calculate_power(a,b):\n",
    "    if b == 1:\n",
    "        return a\n",
    "    else:\n",
    "        return a * calculate_power(a, b-1)\n",
    "print(calculate_power(2,4))"
   ]
  },
  {
   "cell_type": "code",
   "execution_count": 4,
   "id": "f19bdf38",
   "metadata": {},
   "outputs": [
    {
     "name": "stdout",
     "output_type": "stream",
     "text": [
      "10\n"
     ]
    }
   ],
   "source": [
    "#Find the GCD recursively\n",
    "#option 1\n",
    "def find_gcd(a,b):\n",
    "    if b == 0:\n",
    "        return a\n",
    "    else:\n",
    "        return find_gcd(b,a % b)\n",
    "print(find_gcd(50,80))"
   ]
  },
  {
   "cell_type": "code",
   "execution_count": 5,
   "id": "5c741e64",
   "metadata": {},
   "outputs": [
    {
     "name": "stdout",
     "output_type": "stream",
     "text": [
      "10\n"
     ]
    }
   ],
   "source": [
    "#Find the GCD recursively\n",
    "#option 2\n",
    "import math\n",
    "a = 50\n",
    "b = 80\n",
    "\n",
    "print(math.gcd(a,b))"
   ]
  },
  {
   "cell_type": "code",
   "execution_count": 8,
   "id": "bf410763",
   "metadata": {},
   "outputs": [
    {
     "name": "stdout",
     "output_type": "stream",
     "text": [
      "False\n"
     ]
    }
   ],
   "source": [
    "def is_palimdrome(string):\n",
    "    string =  string.lower()\n",
    "    \n",
    "    if len(string) <= 1:\n",
    "        return True\n",
    "    elif string[0] != string[-1]:\n",
    "        return False\n",
    "    else:\n",
    "        return is_palimdrome(string[1:-1])\n",
    "print(is_palimdrome('malaylam'))"
   ]
  },
  {
   "cell_type": "code",
   "execution_count": 9,
   "id": "6222b8a4",
   "metadata": {},
   "outputs": [
    {
     "name": "stdout",
     "output_type": "stream",
     "text": [
      "3\n"
     ]
    }
   ],
   "source": [
    "# count the vowels\n",
    "\n",
    "def count_vowels(string):\n",
    "    string = string.lower()\n",
    "    \n",
    "    if not string:\n",
    "        return 0\n",
    "    elif string[0] in (\"a\" , \"e\" , \"i\" , \"o\" , \"u\"):\n",
    "        return 1 + count_vowels(string[1:])\n",
    "    else:\n",
    "        return count_vowels(string[1:])\n",
    "    \n",
    "print(count_vowels('jeeva'))"
   ]
  },
  {
   "cell_type": "code",
   "execution_count": 19,
   "id": "e316acad",
   "metadata": {},
   "outputs": [
    {
     "name": "stdout",
     "output_type": "stream",
     "text": [
      "*****\n",
      "****\n",
      "***\n",
      "**\n",
      "*\n"
     ]
    }
   ],
   "source": [
    "#print a pattern \n",
    "\n",
    "def print_pattern(n):\n",
    "    if n == 1:\n",
    "        print(\"*\")\n",
    "    else:\n",
    "        print(\"*\" * n)\n",
    "        print_pattern(n - 1)\n",
    "        \n",
    "print_pattern(5)"
   ]
  },
  {
   "cell_type": "code",
   "execution_count": 21,
   "id": "575b3b0e",
   "metadata": {},
   "outputs": [
    {
     "name": "stdout",
     "output_type": "stream",
     "text": [
      "111\n"
     ]
    }
   ],
   "source": [
    "#convert decimal to binary\n",
    "\n",
    "def convert_to_binary(decimal_num):\n",
    "    if decimal_num == 0:\n",
    "        return '0'\n",
    "    else:\n",
    "        return (convert_to_binary(decimal_num // 2) + str(decimal_num % 2)).lstrip(\"0\")\n",
    "\n",
    "print(convert_to_binary(7))"
   ]
  },
  {
   "cell_type": "code",
   "execution_count": 23,
   "id": "239ba337",
   "metadata": {},
   "outputs": [
    {
     "name": "stdout",
     "output_type": "stream",
     "text": [
      "5\n"
     ]
    }
   ],
   "source": [
    "#recursive binary search\n",
    "\n",
    "def binary_search(seq, low, high, elem):\n",
    "    if low > high:\n",
    "        return -1\n",
    "    else:\n",
    "        middle = (low + high) // 2\n",
    "        \n",
    "        if elem == seq[middle]:\n",
    "            return middle\n",
    "        elif elem < seq[middle]:\n",
    "            return binary_search( seq, low, middle -1, elem)\n",
    "        else:\n",
    "            return binary_search(seq,middle +1,high,elem)\n",
    "my_list = [1,2,3,4,5,6,7]\n",
    "print(binary_search(my_list,0,len(my_list),6))"
   ]
  }
 ],
 "metadata": {
  "kernelspec": {
   "display_name": "Python 3 (ipykernel)",
   "language": "python",
   "name": "python3"
  },
  "language_info": {
   "codemirror_mode": {
    "name": "ipython",
    "version": 3
   },
   "file_extension": ".py",
   "mimetype": "text/x-python",
   "name": "python",
   "nbconvert_exporter": "python",
   "pygments_lexer": "ipython3",
   "version": "3.9.5"
  }
 },
 "nbformat": 4,
 "nbformat_minor": 5
}
