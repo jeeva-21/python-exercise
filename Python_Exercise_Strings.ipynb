{
 "cells": [
  {
   "cell_type": "code",
   "execution_count": 1,
   "id": "99f6b2fc",
   "metadata": {},
   "outputs": [
    {
     "name": "stdout",
     "output_type": "stream",
     "text": [
      "6\n"
     ]
    }
   ],
   "source": [
    "#print Length of the string\n",
    "s= \"python\"\n",
    "\n",
    "print(len(s))"
   ]
  },
  {
   "cell_type": "code",
   "execution_count": 2,
   "id": "bce2b10e",
   "metadata": {},
   "outputs": [
    {
     "name": "stdout",
     "output_type": "stream",
     "text": [
      "H\n"
     ]
    }
   ],
   "source": [
    "#print the character of selected index\n",
    "#option 1\n",
    "s = \"Hello\"\n",
    "i = 0\n",
    "\n",
    "if len(s) == 0:\n",
    "    print(\"Empty string\")\n",
    "elif i < len(s):\n",
    "    print(s[i])\n",
    "else:\n",
    "    print(\" i out of range\")"
   ]
  },
  {
   "cell_type": "code",
   "execution_count": 3,
   "id": "72a3c234",
   "metadata": {},
   "outputs": [
    {
     "name": "stdout",
     "output_type": "stream",
     "text": [
      "l\n"
     ]
    }
   ],
   "source": [
    "#print the character of selected index\n",
    "#optiion 2\n",
    "s = \"Hello\"\n",
    "i = 3\n",
    "\n",
    "if not s:\n",
    "    print(\"Empty string\")\n",
    "elif i < len(s):\n",
    "    print(s[i])\n",
    "else:\n",
    "    print(\" i out of range\")"
   ]
  },
  {
   "cell_type": "code",
   "execution_count": 4,
   "id": "b7e6d8ab",
   "metadata": {},
   "outputs": [
    {
     "name": "stdout",
     "output_type": "stream",
     "text": [
      "olleH\n"
     ]
    }
   ],
   "source": [
    "#Reverse the string\n",
    "#option 1\n",
    "\n",
    "s = \"Hello\"\n",
    "\n",
    "print(s[::-1])"
   ]
  },
  {
   "cell_type": "code",
   "execution_count": 5,
   "id": "f4929db3",
   "metadata": {},
   "outputs": [
    {
     "name": "stdout",
     "output_type": "stream",
     "text": [
      "olleH\n"
     ]
    }
   ],
   "source": [
    "#Reverse the string\n",
    "#option 2\n",
    "\n",
    "s = \"Hello\"\n",
    "\n",
    "reversed_word = s[::-1]\n",
    "print(reversed_word)"
   ]
  },
  {
   "cell_type": "code",
   "execution_count": 6,
   "id": "457a0354",
   "metadata": {},
   "outputs": [
    {
     "name": "stdout",
     "output_type": "stream",
     "text": [
      "olleH\n"
     ]
    }
   ],
   "source": [
    "#Reverse the string\n",
    "#option 3\n",
    "\n",
    "s = \"Hello\"\n",
    "\n",
    "reversed_word = \"\".join(reversed(s))\n",
    "print(reversed_word)"
   ]
  },
  {
   "cell_type": "code",
   "execution_count": 7,
   "id": "1b1c99d6",
   "metadata": {},
   "outputs": [
    {
     "name": "stdout",
     "output_type": "stream",
     "text": [
      "Wond ful\n"
     ]
    }
   ],
   "source": [
    "#Combine first and last\n",
    "#option 1\n",
    "s = \"Wonderful\"\n",
    "first = 4\n",
    "last = 3\n",
    "if len(s) < (first+last):\n",
    "    print(\"\")\n",
    "\n",
    "else:\n",
    "    new_string = s[:first] + ' ' + s[len(s)-last:]\n",
    "    print(new_string)"
   ]
  },
  {
   "cell_type": "code",
   "execution_count": 8,
   "id": "f245c660",
   "metadata": {},
   "outputs": [
    {
     "name": "stdout",
     "output_type": "stream",
     "text": [
      "Cdn\n"
     ]
    }
   ],
   "source": [
    "#Remove all characters of even indices\n",
    "#option 1\n",
    "s =\"Coding\"\n",
    "new_s = \"\"\n",
    "\n",
    "for i in range(len(s)):\n",
    "    if i % 2 == 0:\n",
    "        new_s += s[i]\n",
    "print(new_s)"
   ]
  },
  {
   "cell_type": "code",
   "execution_count": 9,
   "id": "9fcb4846",
   "metadata": {},
   "outputs": [
    {
     "name": "stdout",
     "output_type": "stream",
     "text": [
      "Cdn\n"
     ]
    }
   ],
   "source": [
    "#Remove all characters of even indices\n",
    "#option 2 \n",
    "\n",
    "s =\"Coding\"\n",
    "new_s = \"\"\n",
    "\n",
    "for i in range(0,len(s),2):\n",
    "    new_s += s[i]\n",
    "\n",
    "print(new_s)"
   ]
  },
  {
   "cell_type": "code",
   "execution_count": 10,
   "id": "1492ac58",
   "metadata": {},
   "outputs": [
    {
     "name": "stdout",
     "output_type": "stream",
     "text": [
      "False\n"
     ]
    }
   ],
   "source": [
    "#check only numbers\n",
    "\n",
    "s = \"3peg\"\n",
    "\n",
    "print(s.isdecimal())"
   ]
  },
  {
   "cell_type": "code",
   "execution_count": 11,
   "id": "77d9cca8",
   "metadata": {},
   "outputs": [
    {
     "name": "stdout",
     "output_type": "stream",
     "text": [
      "Hllo\n"
     ]
    }
   ],
   "source": [
    "#Remove a character\n",
    "\n",
    "s = \"Hello\"\n",
    "n = 1\n",
    "\n",
    "if (len(s) == 0) or (n >= len(s)):\n",
    "    print(s)\n",
    "    \n",
    "else:\n",
    "    new_s = \"\"\n",
    "    for i in range(len(s)):\n",
    "        if i != n:\n",
    "            new_s += s[i]\n",
    "    \n",
    "    print(new_s)"
   ]
  },
  {
   "cell_type": "code",
   "execution_count": 12,
   "id": "bae423ff",
   "metadata": {},
   "outputs": [
    {
     "name": "stdout",
     "output_type": "stream",
     "text": [
      "Hesso\n"
     ]
    }
   ],
   "source": [
    "#Replace a character\n",
    "#option 1\n",
    "\n",
    "s = \"Hello\"\n",
    "new_s = \"\"\n",
    "\n",
    "curr_char = \"l\"\n",
    "new_char = \"s\"\n",
    "\n",
    "for char in s:\n",
    "    if char == curr_char:\n",
    "        new_s += new_char\n",
    "    else:\n",
    "        new_s += char\n",
    "        \n",
    "print(new_s)"
   ]
  },
  {
   "cell_type": "code",
   "execution_count": 13,
   "id": "0243ab50",
   "metadata": {},
   "outputs": [
    {
     "name": "stdout",
     "output_type": "stream",
     "text": [
      "Hesso\n"
     ]
    }
   ],
   "source": [
    "#Replace a character\n",
    "#option 2\n",
    "\n",
    "s = \"Hello\"\n",
    "\n",
    "curr_char = \"l\"\n",
    "new_char = \"s\"\n",
    "\n",
    "print(s.replace(curr_char,new_char))"
   ]
  },
  {
   "cell_type": "code",
   "execution_count": 14,
   "id": "10dbad9a",
   "metadata": {},
   "outputs": [
    {
     "name": "stdout",
     "output_type": "stream",
     "text": [
      "Hello. World\n"
     ]
    }
   ],
   "source": [
    "#Change commas to dots\n",
    "\n",
    "s = \"Hello, World\"\n",
    "new_s = \"\"\n",
    "\n",
    "COMMA = \",\"\n",
    "DOT = \".\"\n",
    "\n",
    "for char in s:\n",
    "    if char == COMMA:\n",
    "        new_s += DOT\n",
    "    else:\n",
    "        new_s += char\n",
    "print(new_s)"
   ]
  },
  {
   "cell_type": "code",
   "execution_count": 15,
   "id": "bcbd8bc9",
   "metadata": {},
   "outputs": [
    {
     "name": "stdout",
     "output_type": "stream",
     "text": [
      "Hello World...\n"
     ]
    }
   ],
   "source": [
    "#Change commas to dots\n",
    "\n",
    "s = \"Hello World,,,\"\n",
    "new_s = \"\"\n",
    "\n",
    "COMMA = \",\"\n",
    "DOT = \".\"\n",
    "print(s.replace(COMMA,DOT))"
   ]
  },
  {
   "cell_type": "code",
   "execution_count": 16,
   "id": "e440d6a3",
   "metadata": {},
   "outputs": [
    {
     "name": "stdout",
     "output_type": "stream",
     "text": [
      "True\n"
     ]
    }
   ],
   "source": [
    "#Check Pangram\n",
    "#option 1\n",
    "import string\n",
    "\n",
    "s = \"The quick brown fox jumps over the lazy dog\"\n",
    "\n",
    "set_s = set(s.lower())\n",
    "set_s.remove(\" \")\n",
    "\n",
    "print(set_s == set(string.ascii_lowercase))"
   ]
  },
  {
   "cell_type": "code",
   "execution_count": 17,
   "id": "effc16d5",
   "metadata": {},
   "outputs": [
    {
     "name": "stdout",
     "output_type": "stream",
     "text": [
      "True\n"
     ]
    }
   ],
   "source": [
    "#Check Pangram\n",
    "#option 2\n",
    "\n",
    "import string\n",
    "\n",
    "s = \"The quick brown fox jumps over the lazy dog\"\n",
    "is_pangram = True\n",
    "\n",
    "for char in string.ascii_lowercase:\n",
    "    if char not in s.lower():\n",
    "        is_pangram = False\n",
    "        \n",
    "print(is_pangram)"
   ]
  },
  {
   "cell_type": "code",
   "execution_count": 18,
   "id": "7c946bed",
   "metadata": {},
   "outputs": [
    {
     "name": "stdout",
     "output_type": "stream",
     "text": [
      "HelloHi\n"
     ]
    }
   ],
   "source": [
    "#Removing spaces \n",
    "#option 1\n",
    "\n",
    "s = \"Hello Hi\"\n",
    "new_s = \"\"\n",
    "\n",
    "for char in s:\n",
    "    if char != \" \":\n",
    "        new_s += char\n",
    "print(new_s)"
   ]
  },
  {
   "cell_type": "code",
   "execution_count": 19,
   "id": "c948b83b",
   "metadata": {},
   "outputs": [
    {
     "name": "stdout",
     "output_type": "stream",
     "text": [
      "HelloHi\n"
     ]
    }
   ],
   "source": [
    "#Removing spaces \n",
    "#option 2\n",
    "\n",
    "s = \"Hello Hi\"\n",
    "print(s.replace(\" \",\"\"))"
   ]
  },
  {
   "cell_type": "code",
   "execution_count": 20,
   "id": "ca86dcc4",
   "metadata": {},
   "outputs": [
    {
     "name": "stdout",
     "output_type": "stream",
     "text": [
      "True\n"
     ]
    }
   ],
   "source": [
    "#Check for start with prefix\n",
    "#option 1\n",
    "s = \"Hello\"\n",
    "prefix = \"He\"\n",
    "\n",
    "print(s[:len(prefix)] == prefix)\n"
   ]
  },
  {
   "cell_type": "code",
   "execution_count": 21,
   "id": "eccd74ab",
   "metadata": {},
   "outputs": [
    {
     "name": "stdout",
     "output_type": "stream",
     "text": [
      "True\n"
     ]
    }
   ],
   "source": [
    "#Check for start with prefix\n",
    "#option 2\n",
    "s = \"Hello\"\n",
    "prefix = \"lo\"\n",
    "\n",
    "print(s.endswith(prefix))\n"
   ]
  },
  {
   "cell_type": "code",
   "execution_count": 22,
   "id": "c6457686",
   "metadata": {},
   "outputs": [
    {
     "name": "stdout",
     "output_type": "stream",
     "text": [
      "OLLEh DLROw\n"
     ]
    }
   ],
   "source": [
    "#Reverse the word\n",
    "#option 1\n",
    "s  = \"Hello World\"\n",
    "new_s = \"\"\n",
    "\n",
    "words_list = s.split(\" \")\n",
    "for word in words_list:\n",
    "        reversed_word = word[::-1]\n",
    "        swapped_word = reversed_word.swapcase()\n",
    "        new_s += swapped_word + \" \"\n",
    "        \n",
    "new_s = new_s.rstrip()\n",
    "    \n",
    "print(new_s)\n"
   ]
  },
  {
   "cell_type": "code",
   "execution_count": 23,
   "id": "fa0f94aa",
   "metadata": {},
   "outputs": [
    {
     "name": "stdout",
     "output_type": "stream",
     "text": [
      "OLLEh DROw \n"
     ]
    }
   ],
   "source": [
    "#Reverse the word\n",
    "#option 2\n",
    "\n",
    "s= \"Hello Word\"\n",
    "new_s = \"\"\n",
    "\n",
    "words_list = s.split(\" \")\n",
    "for word in words_list:\n",
    "    reverse_word = \"\".join(reversed(word))\n",
    "    swapped_word = reverse_word.swapcase()\n",
    "    new_s += swapped_word + \" \"\n",
    "    \n",
    "new_s.rstrip()\n",
    "print(new_s)\n"
   ]
  },
  {
   "cell_type": "code",
   "execution_count": 24,
   "id": "dbdf78e8",
   "metadata": {},
   "outputs": [
    {
     "name": "stdout",
     "output_type": "stream",
     "text": [
      "4\n",
      "e h l o "
     ]
    }
   ],
   "source": [
    "#Count repitations\n",
    "#Option 1\n",
    "\n",
    "s = \"Helloehuonfhsk\"\n",
    "\n",
    "repeated_count = 0\n",
    "repeated_char = []\n",
    "\n",
    "for char in s:\n",
    "    if(s.count(char) > 1) and (char not in repeated_char):\n",
    "        repeated_count += 1\n",
    "        repeated_char.append(char)\n",
    "    \n",
    "print(repeated_count)\n",
    "\n",
    "if len(repeated_char) > 0:\n",
    "    for char in sorted(repeated_char):\n",
    "        print(char, end=\" \")\n",
    "else:\n",
    "    print(None)"
   ]
  },
  {
   "cell_type": "code",
   "execution_count": 25,
   "id": "7a0de5fa",
   "metadata": {},
   "outputs": [
    {
     "name": "stdout",
     "output_type": "stream",
     "text": [
      "8\n"
     ]
    }
   ],
   "source": [
    "s = \"abcdaaaccc\"\n",
    "a=0\n",
    "b= []\n",
    "for i in s:\n",
    "    if (s.count(i) > 1) and (i not in b): \n",
    "        a += 1\n",
    "print(a)"
   ]
  },
  {
   "cell_type": "code",
   "execution_count": 26,
   "id": "98d9f331",
   "metadata": {},
   "outputs": [
    {
     "name": "stdout",
     "output_type": "stream",
     "text": [
      " ehllo dlorw \n"
     ]
    }
   ],
   "source": [
    "#Sort alphabetical order\n",
    "#Option 1\n",
    "s = \" Hello World\"\n",
    "new_s = \"\"\n",
    "\n",
    "words_list = s.split(' ')\n",
    "for word in words_list:\n",
    "    lowercase_word = word.lower()\n",
    "    sorted_word = \"\".join(sorted(lowercase_word))\n",
    "    new_s += sorted_word + ' '\n",
    "\n",
    "new_s.rstrip()\n",
    "\n",
    "print(new_s)"
   ]
  },
  {
   "cell_type": "code",
   "execution_count": 27,
   "id": "5070b472",
   "metadata": {},
   "outputs": [
    {
     "name": "stdout",
     "output_type": "stream",
     "text": [
      " ehllo dlorw \n"
     ]
    }
   ],
   "source": [
    "#Sort alphabetical order\n",
    "#Option 2\n",
    "s = \" Hello World\"\n",
    "new_s = \"\"\n",
    "\n",
    "words_list = s.split(' ')\n",
    "for word in words_list:\n",
    "    new_s += \"\".join(sorted(word.lower())) + \" \"\n",
    "\n",
    "new_s.rstrip()\n",
    "\n",
    "print(new_s)"
   ]
  },
  {
   "cell_type": "code",
   "execution_count": null,
   "id": "94a873a7",
   "metadata": {},
   "outputs": [],
   "source": []
  }
 ],
 "metadata": {
  "kernelspec": {
   "display_name": "Python 3 (ipykernel)",
   "language": "python",
   "name": "python3"
  },
  "language_info": {
   "codemirror_mode": {
    "name": "ipython",
    "version": 3
   },
   "file_extension": ".py",
   "mimetype": "text/x-python",
   "name": "python",
   "nbconvert_exporter": "python",
   "pygments_lexer": "ipython3",
   "version": "3.9.5"
  }
 },
 "nbformat": 4,
 "nbformat_minor": 5
}
