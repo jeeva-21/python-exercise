{
 "cells": [
  {
   "cell_type": "code",
   "execution_count": 1,
   "id": "d865bb3c",
   "metadata": {},
   "outputs": [
    {
     "name": "stdout",
     "output_type": "stream",
     "text": [
      "False\n"
     ]
    }
   ],
   "source": [
    "#Check if key exists\n",
    "\n",
    "my_dict = {'a': 1, 'b': 2, 'c': 3}\n",
    "key = 'd'\n",
    "\n",
    "print(key in my_dict)"
   ]
  },
  {
   "cell_type": "code",
   "execution_count": 2,
   "id": "2f555ed9",
   "metadata": {},
   "outputs": [
    {
     "name": "stdout",
     "output_type": "stream",
     "text": [
      "{'a': 1, 'b': 2, 'c': 4, 'd': 6, 'e': 8}\n"
     ]
    }
   ],
   "source": [
    "#merge dictionary\n",
    "\n",
    "my_dict1 = {'a': 1, 'b': 2, 'c': 3}\n",
    "my_dict2 = {'c': 4, 'd': 6, 'e': 8}\n",
    "\n",
    "final_dict = my_dict1 | my_dict2\n",
    "\n",
    "print(final_dict)"
   ]
  },
  {
   "cell_type": "code",
   "execution_count": 3,
   "id": "d68204d8",
   "metadata": {},
   "outputs": [
    {
     "name": "stdout",
     "output_type": "stream",
     "text": [
      "True\n"
     ]
    }
   ],
   "source": [
    "#Values are equal\n",
    "\n",
    "my_dict = {'a': 4, 'b': 4, 'c': 4}\n",
    "\n",
    "num_unique_value = len(set(my_dict.values()))\n",
    "\n",
    "if num_unique_value == 0:\n",
    "    print('Empty')\n",
    "elif num_unique_value == 1:\n",
    "    print(True)\n",
    "else:\n",
    "    print(False)"
   ]
  },
  {
   "cell_type": "code",
   "execution_count": 4,
   "id": "6bc068a9",
   "metadata": {},
   "outputs": [
    {
     "name": "stdout",
     "output_type": "stream",
     "text": [
      "7\n"
     ]
    }
   ],
   "source": [
    "#Find maxmimum value\n",
    "\n",
    "my_dict = {'a': 4, 'b': 7, 'c': 2}\n",
    "\n",
    "if my_dict:\n",
    "    max_value = max(set(my_dict.values()))\n",
    "    print(max_value)\n",
    "else:\n",
    "    print(None)"
   ]
  },
  {
   "cell_type": "code",
   "execution_count": 5,
   "id": "3f583299",
   "metadata": {},
   "outputs": [
    {
     "name": "stdout",
     "output_type": "stream",
     "text": [
      "2\n"
     ]
    }
   ],
   "source": [
    "#Find minimum\n",
    "\n",
    "my_dict = {'a': 4, 'b': 7, 'c': 2}\n",
    "\n",
    "if my_dict:\n",
    "    min_value = min(set(my_dict.values()))\n",
    "    print(min_value)\n",
    "else:\n",
    "    print(None)\n"
   ]
  },
  {
   "cell_type": "code",
   "execution_count": 6,
   "id": "1f3de34f",
   "metadata": {},
   "outputs": [
    {
     "name": "stdout",
     "output_type": "stream",
     "text": [
      "{4: 3, 2: 2, 7: 2, 3: 1}\n"
     ]
    }
   ],
   "source": [
    "#Frequency dictionary\n",
    "\n",
    "my_dict = {\n",
    "            \"a\" : 4,\n",
    "            \"b\" : 4,\n",
    "            \"c\" : 2,\n",
    "            \"d\" : 7,\n",
    "            \"e\" : 4,\n",
    "            \"f\" : 2,\n",
    "            \"g\" : 7,\n",
    "            \"h\" : 3\n",
    "        }\n",
    "\n",
    "freq_dict = {}\n",
    "\n",
    "for value in my_dict.values():\n",
    "    if value in freq_dict:\n",
    "        freq_dict[value] += 1\n",
    "    else:\n",
    "        freq_dict[value] = 1\n",
    "        \n",
    "print(freq_dict)"
   ]
  },
  {
   "cell_type": "code",
   "execution_count": 7,
   "id": "7825b09a",
   "metadata": {},
   "outputs": [
    {
     "name": "stdout",
     "output_type": "stream",
     "text": [
      "{'a': 1, 'b': 2, 'c': 3, 'd': 4}\n"
     ]
    }
   ],
   "source": [
    "#lists of list to Dictionary \n",
    "\n",
    "my_list = [[\"a\" , 1], [\"b\", 2], [\"c\",3], [\"d\",4]]\n",
    "\n",
    "new_dict = {}\n",
    "\n",
    "for nested_list in my_list:\n",
    "    key = nested_list[0]\n",
    "    value = nested_list[1]\n",
    "    new_dict[key] = value\n",
    "\n",
    "print(new_dict)"
   ]
  },
  {
   "cell_type": "code",
   "execution_count": 8,
   "id": "30abb802",
   "metadata": {
    "tags": []
   },
   "outputs": [
    {
     "name": "stdout",
     "output_type": "stream",
     "text": [
      "154\n"
     ]
    }
   ],
   "source": [
    "#maximun sum\n",
    "\n",
    "my_dict = {\n",
    "            \"a\" : [1,2,3],\n",
    "            \"b\" : [4,0,-1],\n",
    "            \"c\" : [3,5,9],\n",
    "            \"d\" : [42,12,100],\n",
    "          }\n",
    "\n",
    "max_sum = None\n",
    "\n",
    "for list_value in my_dict.values():\n",
    "    list_sum = sum(list_value)\n",
    "    \n",
    "    if max_sum is None:\n",
    "        max_sum = list_sum\n",
    "    elif max_sum < list_sum:\n",
    "        max_sum = list_sum\n",
    "        \n",
    "print(max_sum)"
   ]
  },
  {
   "cell_type": "code",
   "execution_count": 9,
   "id": "1ca2b9ac",
   "metadata": {},
   "outputs": [
    {
     "name": "stdout",
     "output_type": "stream",
     "text": [
      "{'a': [1, 2, 3], 'b': [3, 4, 7], 'c': [3, 5, 9], 'd': [1, 2, 7]}\n"
     ]
    }
   ],
   "source": [
    "#sort list\n",
    "\n",
    "my_dict = {\n",
    "            \"a\" : [1,2,3],\n",
    "            \"b\" : [4,3,7],\n",
    "            \"c\" : [3,5,9],\n",
    "            \"d\" : [2,1,7],\n",
    "          }\n",
    "\n",
    "for list_value in my_dict.values():\n",
    "    list_value.sort()\n",
    "    \n",
    "print(my_dict)"
   ]
  },
  {
   "cell_type": "code",
   "execution_count": 10,
   "id": "33ec52cb",
   "metadata": {},
   "outputs": [
    {
     "name": "stdout",
     "output_type": "stream",
     "text": [
      "{'a': [1, 2, 3], 'b': [3, 4, 7], 'c': [3, 5, 9], 'd': [1, 2, 7]}\n"
     ]
    }
   ],
   "source": [
    "my_dict = {\n",
    "            \"a\" : [1,2,3],\n",
    "            \"b\" : [4,3,7],\n",
    "            \"c\" : [3,5,9],\n",
    "            \"d\" : [2,1,7],\n",
    "          }\n",
    "\n",
    "for list_value in my_dict.values():\n",
    "    list_value.sort()\n",
    "    \n",
    "print(my_dict)"
   ]
  },
  {
   "cell_type": "code",
   "execution_count": 11,
   "id": "2edb6b2f",
   "metadata": {},
   "outputs": [
    {
     "name": "stdout",
     "output_type": "stream",
     "text": [
      "[['description', 'shoe'], ['price', 4.45], ['colors', ['green', 'blue', 'red']]]\n"
     ]
    }
   ],
   "source": [
    "#Dictionary to list\n",
    "\n",
    "product_info = {\n",
    "        \"description\" : \"shoe\",\n",
    "        \"price\" : 4.45,\n",
    "        \"colors\" : [\"green\", \"blue\",\"red\"]\n",
    "    \n",
    "}\n",
    "\n",
    "new_list = []\n",
    "\n",
    "for key, value in product_info.items():\n",
    "    new_list.append([key,value])\n",
    "    \n",
    "print(new_list)"
   ]
  },
  {
   "cell_type": "code",
   "execution_count": null,
   "id": "1974790f",
   "metadata": {},
   "outputs": [],
   "source": []
  }
 ],
 "metadata": {
  "kernelspec": {
   "display_name": "Python 3 (ipykernel)",
   "language": "python",
   "name": "python3"
  },
  "language_info": {
   "codemirror_mode": {
    "name": "ipython",
    "version": 3
   },
   "file_extension": ".py",
   "mimetype": "text/x-python",
   "name": "python",
   "nbconvert_exporter": "python",
   "pygments_lexer": "ipython3",
   "version": "3.9.5"
  }
 },
 "nbformat": 4,
 "nbformat_minor": 5
}
