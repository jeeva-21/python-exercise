{
 "cells": [
  {
   "cell_type": "code",
   "execution_count": 1,
   "id": "37615920",
   "metadata": {
    "scrolled": true
   },
   "outputs": [
    {
     "name": "stdout",
     "output_type": "stream",
     "text": [
      "[6, 8, 10, 12]\n"
     ]
    }
   ],
   "source": [
    "#Multiplying elements in the lists\n",
    "#option 1\n",
    "my_list = [3,4,5,6]\n",
    "factor = 2\n",
    "\n",
    "for i in range(len(my_list)):\n",
    "    my_list[i] *= factor\n",
    "    \n",
    "print(my_list)"
   ]
  },
  {
   "cell_type": "code",
   "execution_count": 2,
   "id": "344c8cba",
   "metadata": {},
   "outputs": [
    {
     "name": "stdout",
     "output_type": "stream",
     "text": [
      "[6, 8, 10, 12]\n"
     ]
    }
   ],
   "source": [
    "#Multiplying elements in the lists\n",
    "#option 2\n",
    "my_list = [3,4,5,6]\n",
    "factor = 2\n",
    "\n",
    "for i,elem in enumerate(my_list):\n",
    "    my_list[i] *= factor\n",
    "    \n",
    "print(my_list)"
   ]
  },
  {
   "cell_type": "code",
   "execution_count": 3,
   "id": "2dc80868",
   "metadata": {},
   "outputs": [
    {
     "name": "stdout",
     "output_type": "stream",
     "text": [
      "Not empty\n"
     ]
    }
   ],
   "source": [
    "#Check empty or not\n",
    "#Option 1\n",
    "\n",
    "my_list = [3,4,5,6]\n",
    "\n",
    "if len(my_list) == 0:\n",
    "    print(\"List is empty\")\n",
    "else:\n",
    "    print(\"Not empty\")"
   ]
  },
  {
   "cell_type": "code",
   "execution_count": 4,
   "id": "4de27d46",
   "metadata": {},
   "outputs": [
    {
     "name": "stdout",
     "output_type": "stream",
     "text": [
      "not Empty\n"
     ]
    }
   ],
   "source": [
    "#Check empty or not\n",
    "#Option 2\n",
    "\n",
    "my_list = [3,4,5,6]\n",
    "\n",
    "if my_list:\n",
    "    print(\"not Empty\")\n",
    "else:\n",
    "    print(\"empty\")"
   ]
  },
  {
   "cell_type": "code",
   "execution_count": 5,
   "id": "1d16a435",
   "metadata": {},
   "outputs": [
    {
     "name": "stdout",
     "output_type": "stream",
     "text": [
      "0 5\n",
      "1 7\n",
      "2 3\n",
      "3 6\n"
     ]
    }
   ],
   "source": [
    "#Print elements + indicies\n",
    "#Option 1\n",
    "my_list = [5,7,3,6]\n",
    "\n",
    "if len(my_list) == 0:\n",
    "    print(\"empty\")\n",
    "else:\n",
    "    for i in range(len(my_list)):\n",
    "        print(i,my_list[i])\n"
   ]
  },
  {
   "cell_type": "code",
   "execution_count": 6,
   "id": "fe5d6002",
   "metadata": {},
   "outputs": [
    {
     "name": "stdout",
     "output_type": "stream",
     "text": [
      "0 5\n",
      "1 7\n",
      "2 3\n",
      "3 6\n"
     ]
    }
   ],
   "source": [
    "#Print elements + indicies\n",
    "#Option 2\n",
    "\n",
    "my_list = [5,7,3,6]\n",
    "\n",
    "if len(my_list) == 0:\n",
    "    print(\"empty\")\n",
    "else:\n",
    "    for i , elem in enumerate(my_list):\n",
    "        print(i,elem)"
   ]
  },
  {
   "cell_type": "code",
   "execution_count": 7,
   "id": "955ef8cb",
   "metadata": {},
   "outputs": [
    {
     "name": "stdout",
     "output_type": "stream",
     "text": [
      "[3, 4, 8, 4, 8]\n"
     ]
    }
   ],
   "source": [
    "#Remove elements \n",
    "#Option 1\n",
    "\n",
    "my_list = [ 3,4,8,7,4,7,8]\n",
    "elem_to_remove = 7\n",
    "\n",
    "if not my_list:\n",
    "    print(\"empty list\")\n",
    "elif my_list.count(elem_to_remove) == 0:\n",
    "        print(\"not found\")\n",
    "else:\n",
    "    for i in range(my_list.count(elem_to_remove)):\n",
    "        my_list.remove(elem_to_remove)\n",
    "print(my_list)"
   ]
  },
  {
   "cell_type": "code",
   "execution_count": 8,
   "id": "3a3ed5c2",
   "metadata": {},
   "outputs": [
    {
     "name": "stdout",
     "output_type": "stream",
     "text": [
      "[1, 2, 3, 4, 5, 6, 7, 8]\n"
     ]
    }
   ],
   "source": [
    "#Remove duplicates\n",
    "#Option 1\n",
    "\n",
    "my_list = [1,1,2,3,5,5,6,7,8,4,5]\n",
    "no_duplicates = list(set(my_list))\n",
    "print(no_duplicates)"
   ]
  },
  {
   "cell_type": "code",
   "execution_count": 9,
   "id": "ea3410eb",
   "metadata": {},
   "outputs": [
    {
     "name": "stdout",
     "output_type": "stream",
     "text": [
      "[1, 2, 3, 4, 5, 6, 7, 8]\n"
     ]
    }
   ],
   "source": [
    "#Remove duplicates\n",
    "#Option 2\n",
    "\n",
    "my_list = [1,1,2,3,5,5,6,7,8,4,5]\n",
    "no_duplicates = sorted(list(dict.fromkeys(my_list)))\n",
    "print(no_duplicates)"
   ]
  },
  {
   "cell_type": "code",
   "execution_count": 10,
   "id": "6bcda638",
   "metadata": {},
   "outputs": [
    {
     "name": "stdout",
     "output_type": "stream",
     "text": [
      "4\n"
     ]
    }
   ],
   "source": [
    "#count the number Greater than num\n",
    "#Option 1\n",
    "\n",
    "my_list = [1,-3,5,6,7,8,-2]\n",
    "count= 0\n",
    "num= 3\n",
    "\n",
    "for elem in my_list:\n",
    "    if elem > num:\n",
    "        count += 1\n",
    "\n",
    "print(count)"
   ]
  },
  {
   "cell_type": "code",
   "execution_count": 11,
   "id": "733587ca",
   "metadata": {},
   "outputs": [
    {
     "name": "stdout",
     "output_type": "stream",
     "text": [
      "4\n"
     ]
    }
   ],
   "source": [
    "#count the number Greater than num\n",
    "#Option 2\n",
    "\n",
    "my_list = [1,-3,5,6,7,8,-2]\n",
    "\n",
    "count = sum(1 for elem in my_list if elem > 3)\n",
    "print(count)"
   ]
  },
  {
   "cell_type": "code",
   "execution_count": 12,
   "id": "ec5097b9",
   "metadata": {},
   "outputs": [
    {
     "name": "stdout",
     "output_type": "stream",
     "text": [
      "max = 8 , min = -3\n"
     ]
    }
   ],
   "source": [
    "#Print maximum and minimum\n",
    "\n",
    "my_list = [1,-3,5,6,7,8,-2]\n",
    "\n",
    "if my_list:\n",
    "    print(f'max = {max(my_list)} , min = {min(my_list)}')\n",
    "else:\n",
    "    print(None)"
   ]
  },
  {
   "cell_type": "code",
   "execution_count": 13,
   "id": "08fd1dd1",
   "metadata": {},
   "outputs": [
    {
     "name": "stdout",
     "output_type": "stream",
     "text": [
      "[3, 4]\n"
     ]
    }
   ],
   "source": [
    "#Difference between two lists\n",
    "\n",
    "listA = [1,2,3,4]\n",
    "listB = [1,2]\n",
    "\n",
    "difference = []\n",
    "\n",
    "for elem in listA:\n",
    "    if elem not in listB:\n",
    "        difference.append(elem)\n",
    "\n",
    "print(difference)"
   ]
  },
  {
   "cell_type": "code",
   "execution_count": 14,
   "id": "8f34e75c",
   "metadata": {},
   "outputs": [
    {
     "name": "stdout",
     "output_type": "stream",
     "text": [
      "2.23606797749979\n"
     ]
    }
   ],
   "source": [
    "#Distace between three points\n",
    "#option 1\n",
    "\n",
    "pointA = [3,4,5]\n",
    "pointB = [1,3,5]\n",
    "\n",
    "distance = ((pointA[0] - pointB[0]) **2\n",
    "            + (pointA[1] - pointB[1]) **2\n",
    "            +(pointA[2] - pointB[2]) **2) ** (1/2)\n",
    "print(distance)"
   ]
  },
  {
   "cell_type": "code",
   "execution_count": 15,
   "id": "12d3340b",
   "metadata": {},
   "outputs": [
    {
     "name": "stdout",
     "output_type": "stream",
     "text": [
      "2.23606797749979\n"
     ]
    }
   ],
   "source": [
    "#Distace between three points\n",
    "#option 2\n",
    "import math\n",
    "\n",
    "pointA = [3,4,5]\n",
    "pointB = [1,3,5]\n",
    "\n",
    "addition = ((pointA[0] - pointB[0]) **2\n",
    "            + (pointA[1] - pointB[1]) **2\n",
    "            +(pointA[2] - pointB[2]) **2) \n",
    "\n",
    "distance = math.sqrt(addition)\n",
    "\n",
    "print(distance)"
   ]
  },
  {
   "cell_type": "code",
   "execution_count": 16,
   "id": "37d46f59",
   "metadata": {},
   "outputs": [
    {
     "name": "stdout",
     "output_type": "stream",
     "text": [
      "[1, 2, 3, 4]\n"
     ]
    }
   ],
   "source": [
    "#Common elements\n",
    "\n",
    "listA = [1,2,3,4,5]\n",
    "listB = [1,2,3,4]\n",
    "\n",
    "common_elem = []\n",
    "for elem in listA:\n",
    "    if elem in listB:\n",
    "        common_elem.append(elem)\n",
    "print(common_elem)"
   ]
  },
  {
   "cell_type": "code",
   "execution_count": 17,
   "id": "09f87547",
   "metadata": {},
   "outputs": [
    {
     "name": "stdout",
     "output_type": "stream",
     "text": [
      "3\n"
     ]
    }
   ],
   "source": [
    "#find the second largest value\n",
    "#option 1\n",
    "\n",
    "my_list = [1,2,3,4]\n",
    "\n",
    "if len(my_list) > 1:\n",
    "    sort_list = sorted(my_list)\n",
    "    print(sort_list[-2])\n",
    "else:\n",
    "    print(None)\n"
   ]
  },
  {
   "cell_type": "code",
   "execution_count": 18,
   "id": "1e180a24",
   "metadata": {},
   "outputs": [
    {
     "name": "stdout",
     "output_type": "stream",
     "text": [
      "3\n"
     ]
    }
   ],
   "source": [
    "#find the second largest value\n",
    "#option 2\n",
    "\n",
    "my_list = [1,2,3,4]\n",
    "\n",
    "if len(my_list) > 1:\n",
    "    no_duplicates = set(my_list)\n",
    "    no_duplicates.remove(max(no_duplicates))\n",
    "    print(max(no_duplicates))\n",
    "else:\n",
    "    print(None)"
   ]
  },
  {
   "cell_type": "code",
   "execution_count": 19,
   "id": "76c26a5b",
   "metadata": {},
   "outputs": [
    {
     "name": "stdout",
     "output_type": "stream",
     "text": [
      "[1, 2, 3, 4, 5, 6, 7, 8, 9]\n"
     ]
    }
   ],
   "source": [
    "#Flatened list\n",
    "\n",
    "# my_list = [[1,2,3],[4,5,6],[7,8,9]]\n",
    "my_list = [(1,2,3),(4,5,6),(7,8,9)]\n",
    "flat_list = []\n",
    "\n",
    "for elem in my_list:\n",
    "    if isinstance(elem,tuple):  #list or tuple \n",
    "        for nested_elem in elem:\n",
    "            flat_list.append(nested_elem)\n",
    "    else:\n",
    "        flat_list.append(elem)\n",
    "    \n",
    "print(flat_list)\n",
    "            "
   ]
  },
  {
   "cell_type": "code",
   "execution_count": 20,
   "id": "9fcbd155",
   "metadata": {},
   "outputs": [
    {
     "name": "stdout",
     "output_type": "stream",
     "text": [
      "(1, 2, 3)\n",
      "(1, 3, 2)\n",
      "(2, 1, 3)\n",
      "(2, 3, 1)\n",
      "(3, 1, 2)\n",
      "(3, 2, 1)\n"
     ]
    }
   ],
   "source": [
    "#Permutations\n",
    "\n",
    "import itertools\n",
    "\n",
    "my_list = [1,2,3]\n",
    "\n",
    "permutations = list(itertools.permutations(my_list))\n",
    "\n",
    "for permutation in permutations:\n",
    "    \n",
    "    print(permutation)\n"
   ]
  }
 ],
 "metadata": {
  "kernelspec": {
   "display_name": "Python 3 (ipykernel)",
   "language": "python",
   "name": "python3"
  },
  "language_info": {
   "codemirror_mode": {
    "name": "ipython",
    "version": 3
   },
   "file_extension": ".py",
   "mimetype": "text/x-python",
   "name": "python",
   "nbconvert_exporter": "python",
   "pygments_lexer": "ipython3",
   "version": "3.9.6"
  }
 },
 "nbformat": 4,
 "nbformat_minor": 5
}
